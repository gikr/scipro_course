{
 "cells": [
  {
   "cell_type": "markdown",
   "metadata": {},
   "source": [
    "### Remember: jupyter notebooks\n",
    "\n",
    "- To run the currently highlighted cell, hold <kbd>&#x21E7; Shift</kbd> and press <kbd>&#x23ce; Enter</kbd>.\n",
    "- To get help for a specific function, place the cursor within the function's brackets, hold <kbd>&#x21E7; Shift</kbd>, and press <kbd>&#x21E5; Tab</kbd>.\n",
    "\n",
    "### Remember: Search engines are your friends\n",
    "\n",
    "- When you'd like to know if there is a function for numpy that solves a particular problem, try searching for 'numpy' + a couple of keywords describing your problem. There's a good chance that the first result will be a numpy documentation page!"
   ]
  },
  {
   "cell_type": "code",
   "execution_count": 1,
   "metadata": {},
   "outputs": [],
   "source": [
    "import numpy as np\n",
    "import matplotlib.pyplot as plt\n",
    "from matplotlib import gridspec"
   ]
  },
  {
   "cell_type": "markdown",
   "metadata": {},
   "source": [
    "# Numpy\n",
    "\n",
    "Note: most of the following exercises on numpy were taken from:\n",
    "\n",
    "http://www.labri.fr/perso/nrougier/teaching/numpy.100/\n",
    "\n",
    "If you feel like you'd like to test your numpy knowledge, check it out."
   ]
  },
  {
   "cell_type": "markdown",
   "metadata": {},
   "source": [
    "#### Exercise\n",
    "\n",
    "Create a 3x3 matrix with values ranging from 1,9"
   ]
  },
  {
   "cell_type": "code",
   "execution_count": 48,
   "metadata": {},
   "outputs": [
    {
     "data": {
      "text/plain": [
       "array([[1, 2, 3],\n",
       "       [4, 5, 6],\n",
       "       [7, 8, 9]])"
      ]
     },
     "execution_count": 48,
     "metadata": {},
     "output_type": "execute_result"
    }
   ],
   "source": [
    "np.arange(1,10).reshape(3,3)"
   ]
  },
  {
   "cell_type": "markdown",
   "metadata": {},
   "source": [
    "#### Exercise\n",
    "\n",
    "Find indices of non-zero elements from [1,2,0,0,4,0]"
   ]
  },
  {
   "cell_type": "code",
   "execution_count": 19,
   "metadata": {},
   "outputs": [
    {
     "data": {
      "text/plain": [
       "3"
      ]
     },
     "execution_count": 19,
     "metadata": {},
     "output_type": "execute_result"
    }
   ],
   "source": [
    "data = np.asarray([1,2,0,0,4,0])\n",
    "\n",
    "np.where(data == 0)[0].size"
   ]
  },
  {
   "cell_type": "markdown",
   "metadata": {},
   "source": [
    "#### Exercise\n",
    "\n",
    "Create a 10x10 array with random values and find the minimum and maximum values"
   ]
  },
  {
   "cell_type": "code",
   "execution_count": 25,
   "metadata": {},
   "outputs": [
    {
     "name": "stdout",
     "output_type": "stream",
     "text": [
      "0.0021124401212306854\n",
      "0.9925985090977978\n"
     ]
    }
   ],
   "source": [
    "data = np.random.rand(10,10)\n",
    "\n",
    "print(np.min(data))\n",
    "print(np.max(data))"
   ]
  },
  {
   "cell_type": "markdown",
   "metadata": {},
   "source": [
    "#### Exercise\n",
    "\n",
    "Create a 8x8 matrix and fill it with zeros and ones with a checkerboard pattern. Visualize the result using the function plt.spy()"
   ]
  },
  {
   "cell_type": "code",
   "execution_count": 46,
   "metadata": {},
   "outputs": [
    {
     "name": "stdout",
     "output_type": "stream",
     "text": [
      "[[0. 1. 0. 1. 0. 1. 0. 1.]\n",
      " [1. 0. 1. 0. 1. 0. 1. 0.]\n",
      " [0. 1. 0. 1. 0. 1. 0. 1.]\n",
      " [1. 0. 1. 0. 1. 0. 1. 0.]\n",
      " [0. 1. 0. 1. 0. 1. 0. 1.]\n",
      " [1. 0. 1. 0. 1. 0. 1. 0.]\n",
      " [0. 1. 0. 1. 0. 1. 0. 1.]\n",
      " [1. 0. 1. 0. 1. 0. 1. 0.]]\n"
     ]
    },
    {
     "data": {
      "text/plain": [
       "<matplotlib.image.AxesImage at 0x7f5070ecf630>"
      ]
     },
     "execution_count": 46,
     "metadata": {},
     "output_type": "execute_result"
    },
    {
     "data": {
      "image/png": "[encoded data removed]",
      "text/plain": [
       "<matplotlib.figure.Figure at 0x7f5070f295f8>"
      ]
     },
     "metadata": {},
     "output_type": "display_data"
    }
   ],
   "source": [
    "x = np.zeros((8,8))\n",
    "x[1::2, ::2] = 1\n",
    "x[::2, 1::2] = 1\n",
    "\n",
    "print(x)\n",
    "plt.spy(x)"
   ]
  },
  {
   "cell_type": "markdown",
   "metadata": {},
   "source": [
    "#### Exercise\n",
    "\n",
    "Build a 1D array of random integers between 1 and 10 (included) and negate all elements which are between 3 and 8, in place."
   ]
  },
  {
   "cell_type": "code",
   "execution_count": 148,
   "metadata": {},
   "outputs": [
    {
     "name": "stdout",
     "output_type": "stream",
     "text": [
      "[7 6 9 1 6 2 6 3 2 8]\n",
      "[ 7  6 -9 -1 -6 -2 -6 -3  2  8]\n"
     ]
    }
   ],
   "source": [
    "arr = np.random.randint(1,10, 10)\n",
    "print(arr)\n",
    "arr_2 = arr[2:8]*(-1)\n",
    "\n",
    "arr[2:8] = arr_2\n",
    "print(arr)"
   ]
  },
  {
   "cell_type": "code",
   "execution_count": 86,
   "metadata": {},
   "outputs": [
    {
     "name": "stdout",
     "output_type": "stream",
     "text": [
      "[7 8 9 1 2 3]\n"
     ]
    }
   ],
   "source": [
    "a = np.array([5,6,7,8,9,1,2,3])\n",
    "\n",
    "a_2 = a[2:9]\n",
    "print(a_2)"
   ]
  },
  {
   "cell_type": "markdown",
   "metadata": {},
   "source": [
    "#### Exercise\n",
    "\n",
    "Create a vector of size 9 with ordered values ranging from 0 to 1, both excluded"
   ]
  },
  {
   "cell_type": "code",
   "execution_count": 109,
   "metadata": {},
   "outputs": [
    {
     "data": {
      "text/plain": [
       "array([0.81322032, 0.31060413, 0.52729356, 0.93230489, 0.56658949,\n",
       "       0.84385697, 0.82186076, 0.36870309, 0.93248824])"
      ]
     },
     "execution_count": 109,
     "metadata": {},
     "output_type": "execute_result"
    }
   ],
   "source": [
    " np.random.uniform(0, 1, 9)"
   ]
  },
  {
   "cell_type": "markdown",
   "metadata": {},
   "source": [
    "#### Exercise\n",
    "\n",
    "Create a random vector of size 10 and sort it"
   ]
  },
  {
   "cell_type": "code",
   "execution_count": 115,
   "metadata": {},
   "outputs": [
    {
     "name": "stdout",
     "output_type": "stream",
     "text": [
      "[0.08485673 0.11410595 0.34517365 0.36933063 0.45707843 0.52917387\n",
      " 0.64528882 0.67740395 0.92644786 0.9999168 ]\n"
     ]
    }
   ],
   "source": [
    "arr = np.random.rand(10)\n",
    "print(np.sort(arr))"
   ]
  },
  {
   "cell_type": "markdown",
   "metadata": {},
   "source": [
    "#### Exercise\n",
    "\n",
    "Create a random 10x2 matrix representing cartesian coordinates, convert them to polar coordinates"
   ]
  },
  {
   "cell_type": "code",
   "execution_count": 150,
   "metadata": {},
   "outputs": [
    {
     "name": "stdout",
     "output_type": "stream",
     "text": [
      "[0.65013372 0.0496223  0.47694444 0.26404588 0.51662962 0.87332413\n",
      " 0.10126571 0.82957316 0.7154801  0.71041933] [0.14882284 0.32228026 0.58686698 0.04529254 0.72854225 0.40520219\n",
      " 0.90804943 0.96218582 0.58863155 0.60887105]\n",
      "[0.66694985 0.32607811 0.75623333 0.26790229 0.89312931 0.96274808\n",
      " 0.91367856 1.27043032 0.92649818 0.9356386 ]\n",
      "[0.66694985 0.32607811 0.75623333 0.26790229 0.89312931 0.96274808\n",
      " 0.91367856 1.27043032 0.92649818 0.9356386 ]\n",
      "[1.34576235 0.15277277 0.6824346  1.40091676 0.61682582 1.13638022\n",
      " 0.11106114 0.71152031 0.8823613  0.86221859]\n"
     ]
    }
   ],
   "source": [
    "z = np.random.random((10,2))\n",
    "print(z[:,1], z[:,0])\n",
    "polar_coord = np.sqrt(z[:,1]**2 + z[:,0]**2)\n",
    "\n",
    "print(polar_coord)\n",
    "\n",
    "\n",
    "T = np.arctan2(z[:,1], z[:,0]) \n",
    "print(polar_coord) \n",
    "print(T)"
   ]
  },
  {
   "cell_type": "markdown",
   "metadata": {},
   "source": [
    "#### Exercise\n",
    "\n",
    "Create random vector of size 10 and replace the maximum value by 0"
   ]
  },
  {
   "cell_type": "code",
   "execution_count": 128,
   "metadata": {},
   "outputs": [
    {
     "name": "stdout",
     "output_type": "stream",
     "text": [
      "[0.52418313 0.84061761 0.80676356 0.65666778 0.85990486 0.02698167\n",
      " 0.27983793 0.71332327 0.99795953 0.48007297]\n",
      "[0.52418313 0.84061761 0.80676356 0.65666778 0.85990486 0.02698167\n",
      " 0.27983793 0.71332327 0.         0.48007297]\n"
     ]
    }
   ],
   "source": [
    "arr = np.random.rand(10)\n",
    "print(arr)\n",
    "index = np.argmax(arr)\n",
    "arr[index] = 0\n",
    "print(arr)\n"
   ]
  },
  {
   "cell_type": "markdown",
   "metadata": {},
   "source": [
    "# Classes"
   ]
  },
  {
   "cell_type": "markdown",
   "metadata": {},
   "source": [
    "#### Exercise\n",
    "\n",
    "Write a class Dog that requires a 'name' and 'breed' strings to be initialized. Add methods to it, such as 'bark' and 'play', that print some information about what the dog is doing. Use an 'if' statement in the 'bark' method so that the breeds 'st. bernard' and 'chihuahua' will have a different output from the standard class 'bark'"
   ]
  },
  {
   "cell_type": "code",
   "execution_count": 180,
   "metadata": {},
   "outputs": [],
   "source": [
    "class Dog(object):\n",
    "    def __init__(self, name, breed):\n",
    "        self.name = name\n",
    "        self.breed = breed\n",
    "    \n",
    "    def __bark__(self):\n",
    "        print(self.name + 'the dog is barking')\n",
    "        \n",
    "    \n",
    "    def play(self):\n",
    "        print(\"the dog {} is playing\".format(self.name))\n",
    "        \n",
    "    "
   ]
  },
  {
   "cell_type": "code",
   "execution_count": 181,
   "metadata": {},
   "outputs": [
    {
     "name": "stdout",
     "output_type": "stream",
     "text": [
      "the dog Bern is playing\n"
     ]
    }
   ],
   "source": [
    "dog = Dog('Bern', 'large')\n",
    "\n",
    "dog.play()"
   ]
  },
  {
   "cell_type": "markdown",
   "metadata": {},
   "source": [
    "Note on class inheritance: when defining a class ChildClass that inherits from ParentClass\n",
    "\n",
    "```python\n",
    "class ChildClass(ParentClass):\n",
    "    \n",
    "    ### New Methods go in here\n",
    "    \n",
    "```\n",
    "\n",
    "ChildClass will have all the methods of ParentClass, and then you can add methods to ChildClass inside its class body. Methods with the same name as methods in ParentClass will overwrite the ones from ParentClass"
   ]
  },
  {
   "cell_type": "markdown",
   "metadata": {},
   "source": [
    "#### Exercise\n",
    "\n",
    "Now, instead of having the if statement inside the bark method, create the Chihuahua and StBernard class that inherit from the class Dog, and have them overwrite its 'bark' method so that they have a different behaviour, and their initializer so that they only require a 'name' and the 'breed' is automatically set to 'st. bernard' and 'chihuahua'"
   ]
  },
  {
   "cell_type": "code",
   "execution_count": 174,
   "metadata": {},
   "outputs": [
    {
     "ename": "SyntaxError",
     "evalue": "unexpected EOF while parsing (<ipython-input-174-bb3e8d52a927>, line 9)",
     "output_type": "error",
     "traceback": [
      "\u001b[0;36m  File \u001b[0;32m\"<ipython-input-174-bb3e8d52a927>\"\u001b[0;36m, line \u001b[0;32m9\u001b[0m\n\u001b[0;31m    \u001b[0m\n\u001b[0m    ^\u001b[0m\n\u001b[0;31mSyntaxError\u001b[0m\u001b[0;31m:\u001b[0m unexpected EOF while parsing\n"
     ]
    }
   ],
   "source": [
    "class Chihuahua(Dog):\n",
    "    def __rename__():\n",
    "        print(\"the dog Chihuhua is playing\")\n",
    "        \n",
    "    \n",
    "    \n",
    "    \n",
    "\n",
    "class StBernard(Dog):\n",
    "    "
   ]
  },
  {
   "cell_type": "markdown",
   "metadata": {},
   "source": [
    "#### Exercise\n",
    "\n",
    "Build a 2D point class. It must accept as an initializer a 2-element iterable (if None, initialize the point with random values), and have:\n",
    "\n",
    "- 'x' and 'y' properties\n",
    "- a 'norm' property that returns the norm of the point\n",
    "- a 'distance' method that calculates the distance between the point and another given point\n",
    "\n",
    "Write a 'rotate' function that accepts an angle in radians and returns a rotated point around the (0,0) center by that angle\n"
   ]
  },
  {
   "cell_type": "code",
   "execution_count": null,
   "metadata": {},
   "outputs": [],
   "source": [
    " "
   ]
  },
  {
   "cell_type": "markdown",
   "metadata": {},
   "source": [
    "#### Exercise\n",
    "\n",
    "Build an ellipse class, initialized by (axis1, axis2), with methods that return the perimeter and the surface of the ellipse. \n",
    "Build a sphere class that inherits the ellipse class, but overwrites the initialization method with a simpler one that only requires one value and creates and ellipse using that to set both the axes.\n",
    "\n",
    "Note: ellipse perimeter is approximately $\\pi*(3(a+b) - \\sqrt{((3a+b)(a+3b))})$\n",
    "\n",
    "Write a 'ratio' function that calculates the perimeter to surface area and test wether it works with both ellipses and spheres.\n",
    "Build a square class that's not a subclass of the ellipse, but has the same methods. Does the 'ratio' function work with a square too?"
   ]
  },
  {
   "cell_type": "code",
   "execution_count": null,
   "metadata": {},
   "outputs": [],
   "source": [
    " "
   ]
  },
  {
   "cell_type": "markdown",
   "metadata": {},
   "source": [
    "# Matplotlib"
   ]
  },
  {
   "cell_type": "markdown",
   "metadata": {},
   "source": [
    "#### Exercise\n",
    "\n",
    "Use the logspace function to generate 100 spaced integers between $10^{2}$ and $10^{6}$. For each of these values estimate 20 possible values of pi using the solution of yesterday's miniproject. Calculate the mean and variance of your pi estimate corresponding to each value.\n",
    "\n",
    "Visualize the mean and variance; use the plt.plot function for the mean, and the variance using the plt.fill_between function."
   ]
  },
  {
   "cell_type": "code",
   "execution_count": null,
   "metadata": {},
   "outputs": [],
   "source": [
    " "
   ]
  },
  {
   "cell_type": "markdown",
   "metadata": {},
   "source": [
    "#### Exercise\n",
    "\n",
    "Generate an array 'x' of linearly distributed points. Create a function that linearly transforms x and then add some gaussian noise on top of it, with the variance of the noise being the original value of x. Plot the resulting data distribution.\n",
    "\n",
    "Use the function np.linalg.lstsq() to solve the least squares problem needed to find the line that best fits the generated data. Plot the resulting line over the data distribution.\n",
    "\n",
    "Note that the lstsq function is meant to be used for solving a linear matrix equation y = Ax; our problem has a different format, being y = mx + q.\n",
    "This function can be used anyway to solve our problem  by formulating it as\n",
    "\n",
    "y = [m , q] [x, 1] = mx + q\n",
    "\n",
    "Remember: in Jupyter, access the documentation of a function by pressing <kbd>&#x21E7; Shift</kbd> + <kbd>&#x21E5; Tab</kbd> with the cursor in the function arguments"
   ]
  },
  {
   "cell_type": "code",
   "execution_count": null,
   "metadata": {},
   "outputs": [],
   "source": [
    " "
   ]
  },
  {
   "cell_type": "markdown",
   "metadata": {},
   "source": [
    "#### Exercise\n",
    "\n",
    "Generate a sine wave, with gaussian noise added to it. Plot the resulting wave and ensure that the noise isn't covering the original function, while still affecting it.\n",
    "\n",
    "Fit polynomials with different orders over your generated data; you can do this easily by using the functions np.polyfit, which fits a polynomial of a given order to some datapoints, and np.poly1d, which builds a polynomial class on top of some weights.\n",
    "\n",
    "Plot the different polynomials in subplots to compare their performance over the original data."
   ]
  },
  {
   "cell_type": "code",
   "execution_count": null,
   "metadata": {},
   "outputs": [],
   "source": [
    " "
   ]
  },
  {
   "cell_type": "markdown",
   "metadata": {},
   "source": [
    "# Miniprojects"
   ]
  },
  {
   "cell_type": "markdown",
   "metadata": {},
   "source": [
    "## Colorful Flock\n",
    "\n",
    "Write a transformation that, given a 1D array $x$\n",
    "\n",
    "- Calculates $ y = \\sqrt{2*|x|}$\n",
    "- Adds Gaussian noise to $y$, with variance 0.1\n",
    "- Generate a random integer between 0 and 40, and add it to $x$\n",
    "- Generate another random integer between 0 and 40, and add it to $y$\n",
    "- Rotates $x,y$ by $\\frac{\\pi}{6}$ degrees using a rotation matrix:\n",
    " \n",
    "$$\\begin{bmatrix}\n",
    "    \\cos{\\theta} & \\sin{\\theta} \\\\\n",
    "    -\\sin{\\theta} & \\cos{\\theta}\n",
    "\\end{bmatrix}$$\n",
    "    \n",
    "- Returns the transformed $x,y$ pair\n",
    "\n",
    "Now, for 40 times, generate 1000 random values for x and transform them, and plot the transformed data using the function plt.scatter() and setting the size = 1; in the end, use plt.show() to visualize the whole plot."
   ]
  },
  {
   "cell_type": "code",
   "execution_count": null,
   "metadata": {},
   "outputs": [],
   "source": [
    " "
   ]
  },
  {
   "cell_type": "markdown",
   "metadata": {},
   "source": [
    "Generate points from three different 2-D gaussians (hint: you can multivariate_normal function in the np.random package):\n",
    "\n",
    "- Centered in (-3, 0) with covariance ((0.1, 0), (0, 5))\n",
    "- Centered in (3, 6) with covariance ((1, 0.5), (0.5, 2))\n",
    "- Centered in (3, 9) with covariance ((1, 0.5), (0.5, 2))\n",
    "\n",
    "Visualize them on the (X,Y) plane with different colors for each gaussian"
   ]
  },
  {
   "cell_type": "code",
   "execution_count": null,
   "metadata": {},
   "outputs": [],
   "source": [
    " "
   ]
  },
  {
   "cell_type": "markdown",
   "metadata": {},
   "source": [
    "Principal component analysis (PCA) is a statistical procedure that uses an orthogonal transformation to convert a set of observations of possibly correlated variables into a set of values of linearly uncorrelated variables called principal components. This transformation is defined in such a way that the first principal component has the largest possible variance (that is, accounts for as much of the variability in the data as possible), and each succeeding component in turn has the highest variance possible under the constraint that it is orthogonal to the preceding components. The resulting vectors are an uncorrelated orthogonal basis set.\n",
    "\n",
    "Use the previously generated multi-gaussian dataset as a base to apply PCA on. The implementation of PCA is as follows:\n",
    "\n",
    "- Remove the mean from each feature of the dataset\n",
    "- Calculate the covariance matrix of the mean-free dataset\n",
    "- Calculate eigenvectors and eigenvalues of the covariance matrix; the magnitude of the eigenvalues indicate how much 'variance' is mapped by the related eigenvector\n",
    "- Use the eigenvectors as a basis set to transform the original data\n",
    "- Plot the eigenvectors over the original dataset distribution, so as to visually confirm that the PCA is successfully identifying the best directions (be wary of transpositions!)\n",
    "\n",
    "Plot the transformed dataset in the PCA space"
   ]
  },
  {
   "cell_type": "code",
   "execution_count": null,
   "metadata": {},
   "outputs": [],
   "source": [
    " "
   ]
  },
  {
   "cell_type": "markdown",
   "metadata": {},
   "source": [
    "## The Game of Life\n",
    "\n",
    "(from Wikipedia)\n",
    "\n",
    "The Game of Life, also known simply as Life, is a cellular automaton devised by the British mathematician John Horton Conway in 1970. It is the best-known example of a cellular automaton. The \"game\" is actually a zero-player game, meaning that its evolution is determined by its initial state, needing no input from human players. One interacts with the Game of Life by creating an initial configuration and observing how it evolves.\n",
    "\n",
    "The universe of the Game of Life is a two-dimensional orthogonal grid of square cells, each of which is in one of two possible states, alive (1) or dead (0). Every cell interacts with its eight neighbours, which are the cells that are directly horizontally, vertically, or diagonally adjacent. At each step in time, the following transitions occur:\n",
    "\n",
    "- **Any live cell with fewer than two live neighbours dies**, as if by needs caused by underpopulation.\n",
    "- **Any live cell with more than three live neighbours dies**, as if by overcrowding.\n",
    "- **Any live cell with two or three live neighbours lives**, unchanged, to the next generation.\n",
    "- **Any dead cell with exactly three live neighbours becomes a live cell**.\n",
    "\n",
    "The initial pattern constitutes the 'seed' of the system. The first generation is created by applying the above rules simultaneously to every cell in the seed – births and deaths happen simultaneously, and the discrete moment at which this happens is sometimes called a tick. (In other words, each generation is a pure function of the one before.) The rules continue to be applied repeatedly to create further generations.\n",
    "\n",
    "#### Exercise\n",
    "\n",
    "Implement a simple version of the game of life, and initialize it with a 100x100 random matrix of 0-1 values (use the numpy.random.randint function for this). Execute a number of steps and see how your system is evolving over time by printing the total number of cells (ones) in your Petri dish (matrix). You can visualize the position of your cells by calling the function spy() from the matplotlib package on your matrix\n",
    "\n",
    "Try changing the size of the matrix to 1000x1000. Is the simulation becoming slow?"
   ]
  },
  {
   "cell_type": "code",
   "execution_count": null,
   "metadata": {
    "scrolled": true
   },
   "outputs": [],
   "source": [
    " "
   ]
  },
  {
   "cell_type": "markdown",
   "metadata": {},
   "source": [
    "#### Exercise\n",
    "\n",
    "An optimized version can be implemented by making the 'dead boundary' assumption, meaning that the values on the boundary of the map will always be zero.\n",
    "\n",
    "This allows to calculate the number of neighbours for $z_{i,j}$ for all i,j simultaneously. This is done by adding up together the submatrices of Z, shifted by 1 element in every of the 8 directions.\n",
    "\n",
    "As an example, think of how calculating the neighbours of a 3x3 matrix is adding up together the 8 1x1 matrices surrounding the center. In the same way, calculating the neighbours for a 10x10 matrix is adding up together the 8 8x8 matrices that are shifted from the center, the neighbours of a 100x100 matrix are calculated adding up the 8 98x98 matrices shifted from the center, and so on.\n",
    "\n",
    "Use this faster neighbour calculation to implement an optimized version of the game of Life using a single for loop. Do you see any performance improvements on a 1000x1000 matrix?"
   ]
  },
  {
   "cell_type": "code",
   "execution_count": null,
   "metadata": {},
   "outputs": [],
   "source": [
    " "
   ]
  }
 ],
 "metadata": {
  "kernelspec": {
   "display_name": "Python 3",
   "language": "python",
   "name": "python3"
  },
  "language_info": {
   "codemirror_mode": {
    "name": "ipython",
    "version": 3
   },
   "file_extension": ".py",
   "mimetype": "text/x-python",
   "name": "python",
   "nbconvert_exporter": "python",
   "pygments_lexer": "ipython3",
   "version": "3.6.4"
  }
 },
 "nbformat": 4,
 "nbformat_minor": 2
}
